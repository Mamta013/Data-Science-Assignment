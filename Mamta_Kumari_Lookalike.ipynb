{
 "cells": [
  {
   "cell_type": "code",
   "execution_count": 1,
   "id": "1baf1b9e-bdd3-4579-b181-0672e51f414b",
   "metadata": {},
   "outputs": [],
   "source": [
    "import pandas as pd\n",
    "from sklearn.feature_extraction.text import TfidfVectorizer\n",
    "from sklearn.metrics.pairwise import cosine_similarity\n",
    "from sklearn.preprocessing import MinMaxScaler"
   ]
  },
  {
   "cell_type": "code",
   "execution_count": 2,
   "id": "41f0fe69-5c5a-4ece-a0b1-fbfabe056654",
   "metadata": {},
   "outputs": [],
   "source": [
    "customers = pd.read_csv('Customers.csv')\n",
    "products = pd.read_csv('Products.csv')\n",
    "transactions = pd.read_csv('Transactions.csv')"
   ]
  },
  {
   "cell_type": "code",
   "execution_count": 3,
   "id": "14b46e4f-02a8-4deb-b5ae-cee97bf2ebf4",
   "metadata": {},
   "outputs": [],
   "source": [
    "# Merge datasets\n",
    "merged_data = transactions.merge(customers, on='CustomerID').merge(products, on='ProductID')"
   ]
  },
  {
   "cell_type": "code",
   "execution_count": 4,
   "id": "71fe143c-2a0b-4838-bef5-2444847176fc",
   "metadata": {},
   "outputs": [],
   "source": [
    "# Feature engineering: Combine customer and transaction data\n",
    "customer_profiles = merged_data.groupby('CustomerID').agg({\n",
    "    'Region': 'first',\n",
    "    'Category': lambda x: ' '.join(x),  # Concatenate product categories\n",
    "    'TotalValue': 'sum',  # Total spending\n",
    "    'Quantity': 'sum'     # Total quantity purchased\n",
    "}).reset_index()"
   ]
  },
  {
   "cell_type": "code",
   "execution_count": 5,
   "id": "5fbf4cc6-a100-44fc-858e-481b42b9b8af",
   "metadata": {},
   "outputs": [],
   "source": [
    "# Normalize numerical features (TotalValue and Quantity)\n",
    "scaler = MinMaxScaler()\n",
    "customer_profiles[['TotalValue', 'Quantity']] = scaler.fit_transform(customer_profiles[['TotalValue', 'Quantity']])"
   ]
  },
  {
   "cell_type": "code",
   "execution_count": 6,
   "id": "d3f165fc-d9e6-44c7-9435-918b5e4f2dbc",
   "metadata": {},
   "outputs": [],
   "source": [
    "# Combine all text features into a single column for similarity calculations\n",
    "customer_profiles['CombinedText'] = customer_profiles['Region'] + ' ' + customer_profiles['Category']"
   ]
  },
  {
   "cell_type": "code",
   "execution_count": 7,
   "id": "2b0d9db7-426c-4120-b972-26fde22e452a",
   "metadata": {},
   "outputs": [],
   "source": [
    "# Calculate similarity using TF-IDF and cosine similarity\n",
    "tfidf = TfidfVectorizer()\n",
    "text_features = tfidf.fit_transform(customer_profiles['CombinedText'])"
   ]
  },
  {
   "cell_type": "code",
   "execution_count": 8,
   "id": "d78cac89-d1aa-40bc-a9a1-603e9bf3762b",
   "metadata": {},
   "outputs": [],
   "source": [
    "# Combine text and numerical features\n",
    "combined_features = pd.concat([\n",
    "    pd.DataFrame(text_features.toarray()),\n",
    "    customer_profiles[['TotalValue', 'Quantity']].reset_index(drop=True)\n",
    "], axis=1)"
   ]
  },
  {
   "cell_type": "code",
   "execution_count": 9,
   "id": "2f9d32f9-3568-48d5-a3f1-8370e0f7a94c",
   "metadata": {},
   "outputs": [],
   "source": [
    "# Compute pairwise cosine similarity\n",
    "similarity_matrix = cosine_similarity(combined_features)"
   ]
  },
  {
   "cell_type": "code",
   "execution_count": 10,
   "id": "0949b89f-9417-4392-87d4-30d05681e8da",
   "metadata": {},
   "outputs": [],
   "source": [
    "# Generate lookalike recommendations for the first 20 customers\n",
    "lookalike_results = {}\n",
    "for i, customer_id in enumerate(customer_profiles['CustomerID'][:20]):\n",
    "    # Get similarity scores for the current customer\n",
    "    scores = list(enumerate(similarity_matrix[i]))\n",
    "    # Sort by similarity score in descending order (excluding self)\n",
    "    scores = sorted(scores, key=lambda x: x[1], reverse=True)\n",
    "    scores = [(customer_profiles['CustomerID'][idx], score) for idx, score in scores if idx != i]\n",
    "    # Take top 3 lookalikes\n",
    "    lookalike_results[customer_id] = scores[:3]"
   ]
  },
  {
   "cell_type": "code",
   "execution_count": 11,
   "id": "40aa0031-2122-4f58-81cf-b84b1a8bb5f0",
   "metadata": {},
   "outputs": [],
   "source": [
    "# Save results to Lookalike.csv\n",
    "lookalike_df = pd.DataFrame([\n",
    "    {\n",
    "        'CustomerID': cust_id,\n",
    "        'Lookalike1': lookalikes[0][0],\n",
    "        'Score1': lookalikes[0][1],\n",
    "        'Lookalike2': lookalikes[1][0],\n",
    "        'Score2': lookalikes[1][1],\n",
    "        'Lookalike3': lookalikes[2][0],\n",
    "        'Score3': lookalikes[2][1]\n",
    "    }\n",
    "    for cust_id, lookalikes in lookalike_results.items()\n",
    "])\n",
    "\n",
    "lookalike_df.to_csv('Mamta_Kumari_Lookalike.csv', index=False)"
   ]
  }
 ],
 "metadata": {
  "kernelspec": {
   "display_name": "Python 3 (ipykernel)",
   "language": "python",
   "name": "python3"
  },
  "language_info": {
   "codemirror_mode": {
    "name": "ipython",
    "version": 3
   },
   "file_extension": ".py",
   "mimetype": "text/x-python",
   "name": "python",
   "nbconvert_exporter": "python",
   "pygments_lexer": "ipython3",
   "version": "3.8.0"
  }
 },
 "nbformat": 4,
 "nbformat_minor": 5
}
